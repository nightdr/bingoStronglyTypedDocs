{
 "cells": [
  {
   "cell_type": "markdown",
   "id": "94f5f701",
   "metadata": {},
   "source": [
    "# Physics-Informed Fitness\n",
    "\n",
    "## Goal: Show how fitness functions can be customized to enforce problem-specific constraints."
   ]
  },
  {
   "cell_type": "markdown",
   "id": "699606ff",
   "metadata": {},
   "source": [
    "### Pre-Requisites\n",
    "\n",
    "It is recommended to check out the [symbolic regression tutorial](tutorial_4.html) before continuing."
   ]
  },
  {
   "cell_type": "markdown",
   "id": "3edae137",
   "metadata": {},
   "source": [
    "### Problem Description\n",
    "\n",
    "A basic physics problem that benefits from using physics-informed fitness is modeling the velocity of an object falling through a viscous liquid. Here we'll model a the velocity of a ball falling through honey. Using Newton's 2nd law ($F = ma \\to a = F/m$), we can derive that $a = g - cv/m$ where $g$ is the acceleration due to gravity, $c$ is a drag term, $v$ is the velocity of the ball, and $m$ is the mass of the ball. We can use this fact to enforce that the models Bingo produces for velocity are physically consistent.\n",
    "\n",
    "**TODO free-body diagram showing problem, note that we are not factoring buoyancy here**"
   ]
  },
  {
   "cell_type": "markdown",
   "id": "1643fd68",
   "metadata": {},
   "source": [
    "### Creating Training Data\n",
    "\n",
    "We can integrate $a = g - cv/m$ to get the true equation of the ball's velocity as it falls through a fluid: $\\frac{mg}{c} \\left(1 - \\exp \\left(\\frac{ct}{m}\\right)\\right)$. Note that while we can derive the true equation in this case, there are problems where we can't do so and only have training data. So, we will only be using this true equation to generate training data and use GPSR to get a model from the data.\n",
    "\n",
    "Let's assume our ball has a mass of 1 $kg$ and a radius of 3 $cm$; on Earth $g$ is roughly 9.8 $m/s^2$; and for the ball dropping through honey, $c$ is roughly $1.8 \\pi \\, kg/s \\approx 5.655 \\, kg/s$ (Stokes' Law without velocity) at $\\text{20}^{\\circ}$C."
   ]
  },
  {
   "cell_type": "code",
   "execution_count": 1,
   "id": "a93a6cce",
   "metadata": {
    "execution": {
     "iopub.execute_input": "2022-08-01T19:21:56.221391Z",
     "iopub.status.busy": "2022-08-01T19:21:56.220380Z",
     "iopub.status.idle": "2022-08-01T19:21:56.352263Z",
     "shell.execute_reply": "2022-08-01T19:21:56.352263Z"
    }
   },
   "outputs": [],
   "source": [
    "import numpy as np\n",
    "\n",
    "m = 1\n",
    "r = 3.0/100.0\n",
    "g = 9.8\n",
    "c = 5.655\n",
    "\n",
    "t = np.linspace(0, 1, num=10).reshape((-1, 1))\n",
    "v = m * g / c * (1 - np.exp(c * t / m))"
   ]
  },
  {
   "cell_type": "code",
   "execution_count": 2,
   "id": "ad57c593",
   "metadata": {
    "execution": {
     "iopub.execute_input": "2022-08-01T19:21:56.355268Z",
     "iopub.status.busy": "2022-08-01T19:21:56.354263Z",
     "iopub.status.idle": "2022-08-01T19:21:56.821155Z",
     "shell.execute_reply": "2022-08-01T19:21:56.822155Z"
    }
   },
   "outputs": [
    {
     "data": {
      "image/png": "[encoded data removed]",
      "text/plain": [
       "<Figure size 432x288 with 1 Axes>"
      ]
     },
     "metadata": {
      "needs_background": "light"
     },
     "output_type": "display_data"
    }
   ],
   "source": [
    "import matplotlib.pyplot as plt\n",
    "\n",
    "plt.scatter(t, v)\n",
    "plt.xlabel(\"t (s)\")\n",
    "plt.ylabel(\"v (m/s)\")\n",
    "plt.title(\"Velocity of Ball Falling Through Honey\")\n",
    "plt.show()"
   ]
  },
  {
   "cell_type": "markdown",
   "id": "a9a34fdc",
   "metadata": {},
   "source": [
    "### Symbolic Regression Setup\n",
    "\n",
    "See the [symbolic regression tutorial](tutorial_4.html) for more information."
   ]
  },
  {
   "cell_type": "markdown",
   "id": "ef35ebe7",
   "metadata": {},
   "source": [
    "#### AGraph Component Generator"
   ]
  },
  {
   "cell_type": "code",
   "execution_count": 3,
   "id": "00985dec",
   "metadata": {
    "execution": {
     "iopub.execute_input": "2022-08-01T19:21:56.825155Z",
     "iopub.status.busy": "2022-08-01T19:21:56.825155Z",
     "iopub.status.idle": "2022-08-01T19:21:57.451426Z",
     "shell.execute_reply": "2022-08-01T19:21:57.452427Z"
    }
   },
   "outputs": [
    {
     "name": "stderr",
     "output_type": "stream",
     "text": [
      "C:\\Users\\David\\Desktop\\GPSR Research\\bingoNASAFork\\bingo\\symbolic_regression\\__init__.py:31: UserWarning: Could not load C++ modules cannot import name 'AGraph' from 'bingocpp' (unknown location)\n",
      "  warnings.warn(f\"Could not load C++ modules {import_err}\")\n"
     ]
    }
   ],
   "source": [
    "from bingo.symbolic_regression import ComponentGenerator\n",
    "\n",
    "component_generator = ComponentGenerator(input_x_dimension=t.shape[1])\n",
    "component_generator.add_operator(\"-\")\n",
    "component_generator.add_operator(\"*\")\n",
    "component_generator.add_operator(\"/\")\n",
    "component_generator.add_operator(\"exp\")"
   ]
  },
  {
   "cell_type": "markdown",
   "id": "04a8b95a",
   "metadata": {},
   "source": [
    "#### AGraph Generator"
   ]
  },
  {
   "cell_type": "code",
   "execution_count": 4,
   "id": "45525da8",
   "metadata": {
    "execution": {
     "iopub.execute_input": "2022-08-01T19:21:57.455427Z",
     "iopub.status.busy": "2022-08-01T19:21:57.455427Z",
     "iopub.status.idle": "2022-08-01T19:21:57.468378Z",
     "shell.execute_reply": "2022-08-01T19:21:57.468378Z"
    }
   },
   "outputs": [],
   "source": [
    "from bingo.symbolic_regression import AGraphGenerator\n",
    "\n",
    "AGRAPH_SIZE = 10\n",
    "\n",
    "agraph_generator = AGraphGenerator(agraph_size=AGRAPH_SIZE,\n",
    "                                   component_generator=component_generator)"
   ]
  },
  {
   "cell_type": "markdown",
   "id": "000ecad4",
   "metadata": {},
   "source": [
    "#### AGraph Variation"
   ]
  },
  {
   "cell_type": "code",
   "execution_count": 5,
   "id": "de7b8051",
   "metadata": {
    "execution": {
     "iopub.execute_input": "2022-08-01T19:21:57.471378Z",
     "iopub.status.busy": "2022-08-01T19:21:57.471378Z",
     "iopub.status.idle": "2022-08-01T19:21:57.483385Z",
     "shell.execute_reply": "2022-08-01T19:21:57.484385Z"
    }
   },
   "outputs": [],
   "source": [
    "from bingo.symbolic_regression import AGraphCrossover, AGraphMutation\n",
    "\n",
    "crossover = AGraphCrossover()\n",
    "mutation = AGraphMutation(component_generator)"
   ]
  },
  {
   "cell_type": "markdown",
   "id": "0f21a084",
   "metadata": {},
   "source": [
    "#### Evaluation"
   ]
  },
  {
   "cell_type": "markdown",
   "id": "172ce565",
   "metadata": {},
   "source": [
    "#### TODO should probably make a custom training data class instead of splicing `ExplicitTrainingData`"
   ]
  },
  {
   "cell_type": "markdown",
   "id": "4bd7868b",
   "metadata": {},
   "source": [
    "##### Defining the Custom Fitness Function\n",
    "\n",
    "Here we're going to create our own fitness function based on the existing `ExplicitRegression` which is used for typical symbolic regression."
   ]
  },
  {
   "cell_type": "code",
   "execution_count": 6,
   "id": "fcdb8442",
   "metadata": {
    "execution": {
     "iopub.execute_input": "2022-08-01T19:21:57.491385Z",
     "iopub.status.busy": "2022-08-01T19:21:57.490386Z",
     "iopub.status.idle": "2022-08-01T19:21:57.499384Z",
     "shell.execute_reply": "2022-08-01T19:21:57.500392Z"
    }
   },
   "outputs": [],
   "source": [
    "from bingo.symbolic_regression import ExplicitRegression\n",
    "\n",
    "class FallingBallRegression(ExplicitRegression):\n",
    "    def __init__(self, training_data, n_boundary_pts, mass_of_ball, \n",
    "                 radius_of_ball, g, drag_term, metric=\"mae\",\n",
    "                 relative=False):\n",
    "        super().__init__(training_data, metric, relative)\n",
    "\n",
    "        self.n_boundary_pts = n_boundary_pts\n",
    "        self.m = mass_of_ball\n",
    "        self.r = radius_of_ball\n",
    "        self.g = g\n",
    "        self.c = drag_term\n",
    "        \n",
    "    def _get_boundary_fitness(self, individual, boundary_pts):\n",
    "        v = individual.evaluate_equation_at(boundary_pts.x)\n",
    "        return v - boundary_pts.y\n",
    "    \n",
    "    def _get_derivative_fitness(self, individual, derivative_pts):\n",
    "        _, dv_dt = individual.evaluate_equation_with_x_gradient_at(derivative_pts.x)\n",
    "        actual_dv_dt = self.g - self.c * derivative_pts.x / self.m\n",
    "        return dv_dt - actual_dv_dt\n",
    "        \n",
    "    def evaluate_fitness_vector(self, individual):\n",
    "        self.eval_count += 1\n",
    "        \n",
    "        boundary_pts = self.training_data[:self.n_boundary_pts]\n",
    "        boundary_fitness = self._get_boundary_fitness(individual, boundary_pts)\n",
    "        \n",
    "        derivative_pts = self.training_data[self.n_boundary_pts:]\n",
    "        derivative_fitness = 2.0 * self._get_derivative_fitness(individual, derivative_pts)\n",
    "        \n",
    "        fitness = np.concatenate((boundary_fitness, derivative_fitness), axis=0)\n",
    "        return fitness.flatten()"
   ]
  },
  {
   "cell_type": "markdown",
   "id": "7dc1e03c",
   "metadata": {},
   "source": [
    "In `__init__`, we are defining the same arguments that `ExplicitRegression` needs (`training_data`, `metric`, and `relative`) as well as information specific to our problem (`n_boundary_pts`, `mass_of_ball`, `radius_of_ball`, `g`, and `drag_term`). Then we are setting up `ExplicitRegression` and storing the physics terms in our object.\n",
    "\n",
    "In `evaluate_fitness_vector`, we are getting the normal fitness vector using `ExplicitRegression`'s `evaluate_fitness_vector` and adding it with a physics-informed `derivative_fitness_vector`. The `derivative_fitness_vector` penalizes the individual if its velocity predictions do not abide by the known $a = \\frac{dv}{dt} = g - \\frac{cv}{m}$. We can do this by using `AGraph`'s `evaluate_equation_with_x_gradient_at` which will normally give us $y$, $dy/dx$, but in our case $x=t$ and $y=v$, so we get $v$, $dv/dt$."
   ]
  },
  {
   "cell_type": "markdown",
   "id": "2ef86801",
   "metadata": {},
   "source": [
    "##### Using the Custom Fitness Function in Evaluation\n",
    "\n",
    "Let's instantiate and wrap our custom fitness function with `ContinuousLocalOptimization` to allow for local optimization of `AGraph` constants."
   ]
  },
  {
   "cell_type": "code",
   "execution_count": 7,
   "id": "664fc26f",
   "metadata": {
    "execution": {
     "iopub.execute_input": "2022-08-01T19:21:57.504383Z",
     "iopub.status.busy": "2022-08-01T19:21:57.501384Z",
     "iopub.status.idle": "2022-08-01T19:21:57.767263Z",
     "shell.execute_reply": "2022-08-01T19:21:57.766263Z"
    }
   },
   "outputs": [],
   "source": [
    "from bingo.symbolic_regression import ExplicitTrainingData\n",
    "from bingo.local_optimizers.scipy_optimizer import ScipyOptimizer\n",
    "from bingo.local_optimizers.local_opt_fitness import LocalOptFitnessFunction\n",
    "boundary_t = np.array([t[0]])\n",
    "boundary_v = np.array([v[0]])\n",
    "deriv_v = v[1:]\n",
    "deriv_a = v[1:]\n",
    "\n",
    "input = np.concatenate((boundary_t, deriv_v), axis=0)\n",
    "output = np.concatenate((boundary_v, deriv_a), axis=0)\n",
    "\n",
    "training_data = ExplicitTrainingData(input, output)\n",
    "\n",
    "fitness = FallingBallRegression(training_data=training_data, n_boundary_pts=len(boundary_t),\n",
    "                                mass_of_ball=m, radius_of_ball=r, g=g, drag_term=c)\n",
    "optimizer = ScipyOptimizer(fitness, method='lm')\n",
    "local_opt_fitness = LocalOptFitnessFunction(fitness, optimizer)"
   ]
  },
  {
   "cell_type": "markdown",
   "id": "96ee62db",
   "metadata": {},
   "source": [
    "We can then use the fitness function in `Evaluation`."
   ]
  },
  {
   "cell_type": "code",
   "execution_count": 8,
   "id": "4120713a",
   "metadata": {
    "execution": {
     "iopub.execute_input": "2022-08-01T19:21:57.769263Z",
     "iopub.status.busy": "2022-08-01T19:21:57.769263Z",
     "iopub.status.idle": "2022-08-01T19:21:57.781404Z",
     "shell.execute_reply": "2022-08-01T19:21:57.781404Z"
    }
   },
   "outputs": [],
   "source": [
    "from bingo.evaluation.evaluation import Evaluation\n",
    "\n",
    "evaluator = Evaluation(local_opt_fitness)"
   ]
  },
  {
   "cell_type": "markdown",
   "id": "d63fb26d",
   "metadata": {},
   "source": [
    "#### Evolutionary Algorithm"
   ]
  },
  {
   "cell_type": "code",
   "execution_count": 9,
   "id": "7918760d",
   "metadata": {
    "execution": {
     "iopub.execute_input": "2022-08-01T19:21:57.784404Z",
     "iopub.status.busy": "2022-08-01T19:21:57.784404Z",
     "iopub.status.idle": "2022-08-01T19:21:57.797414Z",
     "shell.execute_reply": "2022-08-01T19:21:57.796404Z"
    }
   },
   "outputs": [],
   "source": [
    "from bingo.evolutionary_algorithms.age_fitness import AgeFitnessEA\n",
    "\n",
    "POPULATION_SIZE = 50\n",
    "MUTATION_PROB = 0.2\n",
    "CROSSOVER_PROB = 0.4\n",
    "\n",
    "ea = AgeFitnessEA(evaluator, agraph_generator, crossover, mutation,\n",
    "                  CROSSOVER_PROB, MUTATION_PROB, POPULATION_SIZE)"
   ]
  },
  {
   "cell_type": "markdown",
   "id": "a2efd0f0",
   "metadata": {},
   "source": [
    "#### Pareto Front"
   ]
  },
  {
   "cell_type": "code",
   "execution_count": 10,
   "id": "df93e473",
   "metadata": {
    "execution": {
     "iopub.execute_input": "2022-08-01T19:21:57.801419Z",
     "iopub.status.busy": "2022-08-01T19:21:57.800403Z",
     "iopub.status.idle": "2022-08-01T19:21:57.812540Z",
     "shell.execute_reply": "2022-08-01T19:21:57.811552Z"
    }
   },
   "outputs": [],
   "source": [
    "from bingo.stats.pareto_front import ParetoFront\n",
    "\n",
    "def agraph_similarity(ag_1, ag_2):\n",
    "    \"\"\"a similarity metric between agraphs\"\"\"\n",
    "    return ag_1.fitness == ag_2.fitness and ag_1.get_complexity() == ag_2.get_complexity()\n",
    "\n",
    "pareto_front = ParetoFront(secondary_key=lambda ag: ag.get_complexity(),\n",
    "                           similarity_function=agraph_similarity) "
   ]
  },
  {
   "cell_type": "markdown",
   "id": "e64bb1b3",
   "metadata": {},
   "source": [
    "#### Evolutionary Optimizer"
   ]
  },
  {
   "cell_type": "code",
   "execution_count": 11,
   "id": "c914069e",
   "metadata": {
    "execution": {
     "iopub.execute_input": "2022-08-01T19:21:57.815540Z",
     "iopub.status.busy": "2022-08-01T19:21:57.814550Z",
     "iopub.status.idle": "2022-08-01T19:21:57.842394Z",
     "shell.execute_reply": "2022-08-01T19:21:57.843395Z"
    }
   },
   "outputs": [
    {
     "name": "stdout",
     "output_type": "stream",
     "text": [
      "generating population\n",
      "finished generating population\n"
     ]
    }
   ],
   "source": [
    "from bingo.evolutionary_optimizers.island import Island\n",
    "\n",
    "island = Island(ea, agraph_generator, POPULATION_SIZE, hall_of_fame=pareto_front)"
   ]
  },
  {
   "cell_type": "markdown",
   "id": "7efd29ae",
   "metadata": {},
   "source": [
    "### Running Symbolic Regression\n",
    "\n",
    "Now we can run symbolic regression on our training data to produce a model."
   ]
  },
  {
   "cell_type": "code",
   "execution_count": 12,
   "id": "3e92e705",
   "metadata": {
    "execution": {
     "iopub.execute_input": "2022-08-01T19:21:57.849394Z",
     "iopub.status.busy": "2022-08-01T19:21:57.848394Z",
     "iopub.status.idle": "2022-08-01T19:22:29.016312Z",
     "shell.execute_reply": "2022-08-01T19:22:29.016312Z"
    }
   },
   "outputs": [
    {
     "name": "stdout",
     "output_type": "stream",
     "text": [
      "Generation: 0, Best fitness: 1196.185669124851\n"
     ]
    },
    {
     "name": "stderr",
     "output_type": "stream",
     "text": [
      "C:\\Users\\David\\Desktop\\GPSR Research\\bingoNASAFork\\bingo\\symbolic_regression\\agraph\\evaluation_backend\\operator_eval.py:144: RuntimeWarning: overflow encountered in exp\n",
      "  return np.exp(forward_eval[param1])\n",
      "C:\\Users\\David\\Desktop\\GPSR Research\\bingoNASAFork\\bingo\\symbolic_regression\\agraph\\evaluation_backend\\operator_eval.py:95: RuntimeWarning: overflow encountered in true_divide\n",
      "  reverse_eval[param2] -= reverse_eval[reverse_index] *\\\n",
      "C:\\Users\\David\\Desktop\\GPSR Research\\bingoNASAFork\\bingo\\symbolic_regression\\agraph\\evaluation_backend\\operator_eval.py:78: RuntimeWarning: overflow encountered in multiply\n",
      "  return forward_eval[param1] * forward_eval[param2]\n"
     ]
    },
    {
     "name": "stdout",
     "output_type": "stream",
     "text": [
      "Generation: 10, Best fitness: 879.963063122315\n"
     ]
    },
    {
     "name": "stdout",
     "output_type": "stream",
     "text": [
      "Generation: 20, Best fitness: 357.58918621567597\n"
     ]
    },
    {
     "name": "stderr",
     "output_type": "stream",
     "text": [
      "C:\\Users\\David\\Desktop\\GPSR Research\\bingoNASAFork\\bingo\\symbolic_regression\\agraph\\evaluation_backend\\operator_eval.py:94: RuntimeWarning: overflow encountered in true_divide\n",
      "  reverse_eval[param1] += reverse_eval[reverse_index] / forward_eval[param2]\n"
     ]
    },
    {
     "name": "stdout",
     "output_type": "stream",
     "text": [
      "Generation: 30, Best fitness: 357.58918621567597\n"
     ]
    },
    {
     "name": "stdout",
     "output_type": "stream",
     "text": [
      "Generation: 40, Best fitness: 41.366580213139876\n"
     ]
    },
    {
     "name": "stdout",
     "output_type": "stream",
     "text": [
      "Generation: 50, Best fitness: 39.56658021313988\n"
     ]
    },
    {
     "name": "stdout",
     "output_type": "stream",
     "text": [
      "Generation: 60, Best fitness: 39.56658021313988\n"
     ]
    },
    {
     "name": "stdout",
     "output_type": "stream",
     "text": [
      "Generation: 70, Best fitness: 39.56658021313988\n"
     ]
    },
    {
     "name": "stdout",
     "output_type": "stream",
     "text": [
      "Generation: 80, Best fitness: 39.56658021313988\n"
     ]
    },
    {
     "name": "stdout",
     "output_type": "stream",
     "text": [
      "Generation: 90, Best fitness: 39.56658021313988\n"
     ]
    },
    {
     "name": "stdout",
     "output_type": "stream",
     "text": [
      "Generation: 100, Best fitness: 39.56658021313988\n"
     ]
    },
    {
     "name": "stderr",
     "output_type": "stream",
     "text": [
      "C:\\Users\\David\\Desktop\\GPSR Research\\bingoNASAFork\\bingo\\symbolic_regression\\agraph\\evaluation_backend\\operator_eval.py:95: RuntimeWarning: overflow encountered in multiply\n",
      "  reverse_eval[param2] -= reverse_eval[reverse_index] *\\\n",
      "C:\\Users\\David\\Desktop\\GPSR Research\\bingoNASAFork\\bingo\\symbolic_regression\\agraph\\evaluation_backend\\operator_eval.py:83: RuntimeWarning: overflow encountered in multiply\n",
      "  reverse_eval[param1] += reverse_eval[reverse_index]*forward_eval[param2]\n",
      "C:\\Users\\David\\Desktop\\GPSR Research\\bingoNASAFork\\bingo\\symbolic_regression\\agraph\\evaluation_backend\\operator_eval.py:84: RuntimeWarning: overflow encountered in multiply\n",
      "  reverse_eval[param2] += reverse_eval[reverse_index]*forward_eval[param1]\n"
     ]
    },
    {
     "name": "stdout",
     "output_type": "stream",
     "text": [
      "Generation: 110, Best fitness: 39.56658021313988\n"
     ]
    },
    {
     "name": "stdout",
     "output_type": "stream",
     "text": [
      "Generation: 120, Best fitness: 39.56658021313988\n"
     ]
    },
    {
     "name": "stdout",
     "output_type": "stream",
     "text": [
      "Generation: 130, Best fitness: 39.56658021313988\n"
     ]
    },
    {
     "name": "stdout",
     "output_type": "stream",
     "text": [
      "Generation: 140, Best fitness: 39.56658021313988\n"
     ]
    },
    {
     "name": "stdout",
     "output_type": "stream",
     "text": [
      "Generation: 150, Best fitness: 39.56658021313988\n"
     ]
    },
    {
     "name": "stdout",
     "output_type": "stream",
     "text": [
      "Generation: 160, Best fitness: 39.56658021313988\n"
     ]
    },
    {
     "name": "stdout",
     "output_type": "stream",
     "text": [
      "Generation: 170, Best fitness: 39.56658021313988\n"
     ]
    },
    {
     "name": "stdout",
     "output_type": "stream",
     "text": [
      "Generation: 180, Best fitness: 39.56658021313988\n"
     ]
    },
    {
     "name": "stdout",
     "output_type": "stream",
     "text": [
      "Generation: 190, Best fitness: 39.56658021313988\n"
     ]
    },
    {
     "name": "stdout",
     "output_type": "stream",
     "text": [
      "Generation: 200, Best fitness: 39.56658021313988\n"
     ]
    },
    {
     "name": "stdout",
     "output_type": "stream",
     "text": [
      "Generation: 210, Best fitness: 39.56658021313988\n"
     ]
    },
    {
     "name": "stdout",
     "output_type": "stream",
     "text": [
      "Generation: 220, Best fitness: 39.56658021313988\n"
     ]
    },
    {
     "name": "stdout",
     "output_type": "stream",
     "text": [
      "Generation: 230, Best fitness: 39.56658021313988\n"
     ]
    },
    {
     "name": "stdout",
     "output_type": "stream",
     "text": [
      "Generation: 240, Best fitness: 39.56658021313988\n"
     ]
    },
    {
     "name": "stdout",
     "output_type": "stream",
     "text": [
      "Generation: 250, Best fitness: 39.56658021313988\n"
     ]
    },
    {
     "name": "stdout",
     "output_type": "stream",
     "text": [
      "Generation: 260, Best fitness: 39.56658021313988\n"
     ]
    },
    {
     "name": "stderr",
     "output_type": "stream",
     "text": [
      "C:\\Users\\David\\Desktop\\GPSR Research\\bingoNASAFork\\bingo\\symbolic_regression\\agraph\\evaluation_backend\\operator_eval.py:149: RuntimeWarning: overflow encountered in multiply\n",
      "  reverse_eval[param1] += reverse_eval[reverse_index] *\\\n"
     ]
    },
    {
     "name": "stdout",
     "output_type": "stream",
     "text": [
      "Generation: 270, Best fitness: 39.56658021313988\n"
     ]
    },
    {
     "name": "stdout",
     "output_type": "stream",
     "text": [
      "Generation: 280, Best fitness: 39.56658021313988\n"
     ]
    },
    {
     "name": "stdout",
     "output_type": "stream",
     "text": [
      "Generation: 290, Best fitness: 39.56658021313988\n"
     ]
    },
    {
     "name": "stdout",
     "output_type": "stream",
     "text": [
      "Generation: 300, Best fitness: 39.56658021313988\n"
     ]
    },
    {
     "name": "stdout",
     "output_type": "stream",
     "text": [
      "Generation: 310, Best fitness: 39.56658021313988\n"
     ]
    },
    {
     "name": "stdout",
     "output_type": "stream",
     "text": [
      "Generation: 320, Best fitness: 39.56658021313988\n"
     ]
    },
    {
     "name": "stdout",
     "output_type": "stream",
     "text": [
      "Generation: 330, Best fitness: 39.56658021313988\n"
     ]
    },
    {
     "name": "stdout",
     "output_type": "stream",
     "text": [
      "Generation: 340, Best fitness: 39.56658021313988\n"
     ]
    },
    {
     "name": "stdout",
     "output_type": "stream",
     "text": [
      "Generation: 350, Best fitness: 39.56658021313988\n"
     ]
    },
    {
     "name": "stdout",
     "output_type": "stream",
     "text": [
      "Generation: 360, Best fitness: 39.56658021313988\n"
     ]
    },
    {
     "name": "stdout",
     "output_type": "stream",
     "text": [
      "Generation: 370, Best fitness: 39.56658021313988\n"
     ]
    },
    {
     "name": "stdout",
     "output_type": "stream",
     "text": [
      "Generation: 380, Best fitness: 39.56658021313988\n"
     ]
    },
    {
     "name": "stdout",
     "output_type": "stream",
     "text": [
      "Generation: 390, Best fitness: 39.56658021313988\n"
     ]
    },
    {
     "name": "stdout",
     "output_type": "stream",
     "text": [
      "Generation: 400, Best fitness: 39.56658021313988\n"
     ]
    },
    {
     "name": "stdout",
     "output_type": "stream",
     "text": [
      "Generation: 410, Best fitness: 39.56658021313988\n"
     ]
    },
    {
     "name": "stdout",
     "output_type": "stream",
     "text": [
      "Generation: 420, Best fitness: 39.56658021313988\n"
     ]
    },
    {
     "name": "stdout",
     "output_type": "stream",
     "text": [
      "Generation: 430, Best fitness: 39.56658021313988\n"
     ]
    },
    {
     "name": "stdout",
     "output_type": "stream",
     "text": [
      "Generation: 440, Best fitness: 39.56658021313988\n"
     ]
    },
    {
     "name": "stdout",
     "output_type": "stream",
     "text": [
      "Generation: 450, Best fitness: 39.56658021313988\n"
     ]
    },
    {
     "name": "stdout",
     "output_type": "stream",
     "text": [
      "Generation: 460, Best fitness: 39.56658021313988\n"
     ]
    },
    {
     "name": "stdout",
     "output_type": "stream",
     "text": [
      "Generation: 470, Best fitness: 39.56658021313988\n"
     ]
    },
    {
     "name": "stdout",
     "output_type": "stream",
     "text": [
      "Generation: 480, Best fitness: 39.56658021313988\n"
     ]
    },
    {
     "name": "stdout",
     "output_type": "stream",
     "text": [
      "Generation: 490, Best fitness: 39.56658021313988\n"
     ]
    },
    {
     "name": "stdout",
     "output_type": "stream",
     "text": [
      "Generation: 500, Best fitness: 39.56658021313988\n"
     ]
    },
    {
     "name": "stdout",
     "output_type": "stream",
     "text": [
      "Generation: 510, Best fitness: 39.56658021313988\n"
     ]
    },
    {
     "name": "stdout",
     "output_type": "stream",
     "text": [
      "Generation: 520, Best fitness: 39.56658021313988\n"
     ]
    },
    {
     "name": "stdout",
     "output_type": "stream",
     "text": [
      "Generation: 530, Best fitness: 39.56658021313988\n"
     ]
    },
    {
     "name": "stderr",
     "output_type": "stream",
     "text": [
      "C:\\Users\\David\\Desktop\\GPSR Research\\bingoNASAFork\\bingo\\symbolic_regression\\agraph\\evaluation_backend\\operator_eval.py:89: RuntimeWarning: overflow encountered in true_divide\n",
      "  return forward_eval[param1] / forward_eval[param2]\n"
     ]
    },
    {
     "name": "stdout",
     "output_type": "stream",
     "text": [
      "Generation: 540, Best fitness: 39.56658021313988\n"
     ]
    },
    {
     "name": "stdout",
     "output_type": "stream",
     "text": [
      "Generation: 550, Best fitness: 39.56658021313988\n"
     ]
    },
    {
     "name": "stdout",
     "output_type": "stream",
     "text": [
      "Generation: 560, Best fitness: 39.56658021313988\n"
     ]
    },
    {
     "name": "stdout",
     "output_type": "stream",
     "text": [
      "Generation: 570, Best fitness: 39.56658021313988\n"
     ]
    },
    {
     "name": "stdout",
     "output_type": "stream",
     "text": [
      "Generation: 580, Best fitness: 39.56658021313988\n"
     ]
    },
    {
     "name": "stdout",
     "output_type": "stream",
     "text": [
      "Generation: 590, Best fitness: 39.56658021313988\n"
     ]
    },
    {
     "name": "stdout",
     "output_type": "stream",
     "text": [
      "Generation: 600, Best fitness: 39.56658021313988\n"
     ]
    },
    {
     "name": "stdout",
     "output_type": "stream",
     "text": [
      "Generation: 610, Best fitness: 39.56658021313988\n"
     ]
    },
    {
     "name": "stdout",
     "output_type": "stream",
     "text": [
      "Generation: 620, Best fitness: 39.56658021313988\n"
     ]
    },
    {
     "name": "stdout",
     "output_type": "stream",
     "text": [
      "Generation: 630, Best fitness: 39.56658021313988\n"
     ]
    },
    {
     "name": "stdout",
     "output_type": "stream",
     "text": [
      "Generation: 640, Best fitness: 39.56658021313988\n"
     ]
    },
    {
     "name": "stdout",
     "output_type": "stream",
     "text": [
      "Generation: 650, Best fitness: 39.56658021313988\n"
     ]
    },
    {
     "name": "stdout",
     "output_type": "stream",
     "text": [
      "Generation: 660, Best fitness: 39.56658021313988\n"
     ]
    },
    {
     "name": "stdout",
     "output_type": "stream",
     "text": [
      "Generation: 670, Best fitness: 39.56658021313988\n"
     ]
    },
    {
     "name": "stdout",
     "output_type": "stream",
     "text": [
      "Generation: 680, Best fitness: 39.56658021313988\n"
     ]
    },
    {
     "name": "stdout",
     "output_type": "stream",
     "text": [
      "Generation: 690, Best fitness: 39.56658021313988\n",
      "Generation: 700, Best fitness: 39.56658021313988"
     ]
    },
    {
     "name": "stdout",
     "output_type": "stream",
     "text": [
      "\n"
     ]
    },
    {
     "name": "stdout",
     "output_type": "stream",
     "text": [
      "Generation: 710, Best fitness: 37.766580213139875\n"
     ]
    },
    {
     "name": "stdout",
     "output_type": "stream",
     "text": [
      "Generation: 720, Best fitness: 37.766580213139875\n"
     ]
    },
    {
     "name": "stdout",
     "output_type": "stream",
     "text": [
      "Generation: 730, Best fitness: 37.766580213139875\n"
     ]
    },
    {
     "name": "stdout",
     "output_type": "stream",
     "text": [
      "Generation: 740, Best fitness: 37.766580213139875\n"
     ]
    },
    {
     "name": "stdout",
     "output_type": "stream",
     "text": [
      "Generation: 750, Best fitness: 37.766580213139875\n"
     ]
    },
    {
     "name": "stdout",
     "output_type": "stream",
     "text": [
      "Generation: 760, Best fitness: 37.766580213139875\n"
     ]
    },
    {
     "name": "stdout",
     "output_type": "stream",
     "text": [
      "Generation: 770, Best fitness: 37.766580213139875\n"
     ]
    },
    {
     "name": "stdout",
     "output_type": "stream",
     "text": [
      "Generation: 780, Best fitness: 37.766580213139875\n"
     ]
    },
    {
     "name": "stdout",
     "output_type": "stream",
     "text": [
      "Generation: 790, Best fitness: 37.766580213139875\n"
     ]
    },
    {
     "name": "stdout",
     "output_type": "stream",
     "text": [
      "Generation: 800, Best fitness: 37.766580213139875\n"
     ]
    },
    {
     "name": "stdout",
     "output_type": "stream",
     "text": [
      "Generation: 810, Best fitness: 37.766580213139875\n",
      "Generation: 820, Best fitness: 37.766580213139875"
     ]
    },
    {
     "name": "stdout",
     "output_type": "stream",
     "text": [
      "\n"
     ]
    },
    {
     "name": "stdout",
     "output_type": "stream",
     "text": [
      "Generation: 830, Best fitness: 37.766580213139875\n"
     ]
    },
    {
     "name": "stdout",
     "output_type": "stream",
     "text": [
      "Generation: 840, Best fitness: 37.766580213139875\n"
     ]
    },
    {
     "name": "stdout",
     "output_type": "stream",
     "text": [
      "Generation: 850, Best fitness: 37.766580213139875\n"
     ]
    },
    {
     "name": "stdout",
     "output_type": "stream",
     "text": [
      "Generation: 860, Best fitness: 37.766580213139875\n"
     ]
    },
    {
     "name": "stdout",
     "output_type": "stream",
     "text": [
      "Generation: 870, Best fitness: 37.766580213139875\n"
     ]
    },
    {
     "name": "stdout",
     "output_type": "stream",
     "text": [
      "Generation: 880, Best fitness: 37.766580213139875\n"
     ]
    },
    {
     "name": "stdout",
     "output_type": "stream",
     "text": [
      "Generation: 890, Best fitness: 37.766580213139875\n"
     ]
    },
    {
     "name": "stdout",
     "output_type": "stream",
     "text": [
      "Generation: 900, Best fitness: 37.766580213139875\n"
     ]
    },
    {
     "name": "stdout",
     "output_type": "stream",
     "text": [
      "Generation: 910, Best fitness: 37.766580213139875\n"
     ]
    },
    {
     "name": "stdout",
     "output_type": "stream",
     "text": [
      "Generation: 920, Best fitness: 37.766580213139875\n"
     ]
    },
    {
     "name": "stdout",
     "output_type": "stream",
     "text": [
      "Generation: 930, Best fitness: 37.766580213139875\n"
     ]
    },
    {
     "name": "stdout",
     "output_type": "stream",
     "text": [
      "Generation: 940, Best fitness: 37.766580213139875\n"
     ]
    },
    {
     "name": "stdout",
     "output_type": "stream",
     "text": [
      "Generation: 950, Best fitness: 37.766580213139875\n"
     ]
    },
    {
     "name": "stdout",
     "output_type": "stream",
     "text": [
      "Generation: 960, Best fitness: 37.766580213139875\n"
     ]
    },
    {
     "name": "stdout",
     "output_type": "stream",
     "text": [
      "Generation: 970, Best fitness: 37.766580213139875\n"
     ]
    },
    {
     "name": "stdout",
     "output_type": "stream",
     "text": [
      "Generation: 980, Best fitness: 37.766580213139875\n"
     ]
    },
    {
     "name": "stdout",
     "output_type": "stream",
     "text": [
      "Generation: 990, Best fitness: 37.766580213139875\n"
     ]
    },
    {
     "name": "stdout",
     "output_type": "stream",
     "text": [
      "Generation: 1000, Best fitness: 37.766580213139875\n"
     ]
    },
    {
     "data": {
      "text/plain": [
       "OptimizeResult(success=False, status=2, message='The maximum number of generational steps (1000) occurred', ngen=1000, fitness=37.766580213139875, time=31.156803, ea_diagnostics=EaDiagnosticsSummary(beneficial_crossover_rate=0.009910927110776565, detrimental_crossover_rate=0.4479362689750345, beneficial_mutation_rate=0.0696625459405279, detrimental_mutation_rate=0.6262946876044103, beneficial_crossover_mutation_rate=0.013670886075949367, detrimental_crossover_mutation_rate=0.5470886075949367))"
      ]
     },
     "execution_count": 1,
     "metadata": {},
     "output_type": "execute_result"
    }
   ],
   "source": [
    "import random\n",
    "\n",
    "MAX_GENS = 1000\n",
    "ERR_THRESHOLD = 0.001\n",
    "\n",
    "np.random.seed(0)\n",
    "random.seed(0)\n",
    "island.evolve_until_convergence(MAX_GENS, ERR_THRESHOLD)"
   ]
  },
  {
   "cell_type": "markdown",
   "id": "1bd252ee",
   "metadata": {},
   "source": [
    "### Results"
   ]
  },
  {
   "cell_type": "code",
   "execution_count": 13,
   "id": "998c0509",
   "metadata": {
    "execution": {
     "iopub.execute_input": "2022-08-01T19:22:29.040310Z",
     "iopub.status.busy": "2022-08-01T19:22:29.032311Z",
     "iopub.status.idle": "2022-08-01T19:22:29.203532Z",
     "shell.execute_reply": "2022-08-01T19:22:29.202533Z"
    }
   },
   "outputs": [
    {
     "data": {
      "image/png": "[encoded data removed]",
      "text/plain": [
       "<Figure size 432x288 with 1 Axes>"
      ]
     },
     "metadata": {
      "needs_background": "light"
     },
     "output_type": "display_data"
    }
   ],
   "source": [
    "best_individual = pareto_front[0]\n",
    "pred_v = best_individual.evaluate_equation_at(t)\n",
    "\n",
    "plt.scatter(t, v)\n",
    "plt.scatter(t, pred_v)\n",
    "plt.xlabel(\"t (s)\")\n",
    "plt.ylabel(\"v (m/s)\")\n",
    "plt.legend([\"actual\", \"predicted\"])\n",
    "plt.title(\"Velocity of Ball Falling Through Honey\")\n",
    "plt.show()"
   ]
  }
 ],
 "metadata": {
  "kernelspec": {
   "display_name": "Python 3 (ipykernel)",
   "language": "python",
   "name": "python3"
  },
  "language_info": {
   "codemirror_mode": {
    "name": "ipython",
    "version": 3
   },
   "file_extension": ".py",
   "mimetype": "text/x-python",
   "name": "python",
   "nbconvert_exporter": "python",
   "pygments_lexer": "ipython3",
   "version": "3.8.5"
  }
 },
 "nbformat": 4,
 "nbformat_minor": 5
}
