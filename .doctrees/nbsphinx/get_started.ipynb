{
 "cells": [
  {
   "cell_type": "markdown",
   "id": "9f7ef421",
   "metadata": {},
   "source": [
    "# Get Started\n",
    "\n",
    "## Installation\n",
    "\n",
    "If you haven't already, check out the [installation guide](installation.html) to get Bingo setup."
   ]
  },
  {
   "cell_type": "markdown",
   "id": "a58a4445",
   "metadata": {},
   "source": [
    "## Running an Example\n",
    "\n",
    "Let's run a quick example to ensure that the installation works properly."
   ]
  },
  {
   "cell_type": "markdown",
   "id": "6b71e835",
   "metadata": {},
   "source": [
    "### Creating Training Data"
   ]
  },
  {
   "cell_type": "code",
   "execution_count": 1,
   "id": "48d75055",
   "metadata": {
    "execution": {
     "iopub.execute_input": "2022-08-01T19:15:22.254938Z",
     "iopub.status.busy": "2022-08-01T19:15:22.253938Z",
     "iopub.status.idle": "2022-08-01T19:15:22.395196Z",
     "shell.execute_reply": "2022-08-01T19:15:22.395196Z"
    }
   },
   "outputs": [],
   "source": [
    "import numpy as np\n",
    "X = np.linspace(-10, 10).reshape((-1, 1))\n",
    "y = 3.0 * X ** 2 - 2.0 * X"
   ]
  },
  {
   "cell_type": "markdown",
   "id": "0d15c5df",
   "metadata": {},
   "source": [
    "### Visualizing Training Data"
   ]
  },
  {
   "cell_type": "code",
   "execution_count": 2,
   "id": "fc78aad4",
   "metadata": {
    "execution": {
     "iopub.execute_input": "2022-08-01T19:15:22.398199Z",
     "iopub.status.busy": "2022-08-01T19:15:22.398199Z",
     "iopub.status.idle": "2022-08-01T19:15:22.787900Z",
     "shell.execute_reply": "2022-08-01T19:15:22.786906Z"
    }
   },
   "outputs": [
    {
     "data": {
      "image/png": "[encoded data removed]",
      "text/plain": [
       "<Figure size 432x288 with 1 Axes>"
      ]
     },
     "metadata": {
      "needs_background": "light"
     },
     "output_type": "display_data"
    }
   ],
   "source": [
    "import matplotlib.pyplot as plt\n",
    "plt.scatter(X, y)\n",
    "plt.xlabel(\"X_0\")\n",
    "plt.ylabel(\"y\")\n",
    "plt.title(\"Training Data\")\n",
    "plt.show()"
   ]
  },
  {
   "cell_type": "markdown",
   "id": "932425bf",
   "metadata": {},
   "source": [
    "### Fitting a Model"
   ]
  },
  {
   "cell_type": "code",
   "execution_count": 3,
   "id": "3f74d9ae",
   "metadata": {
    "execution": {
     "iopub.execute_input": "2022-08-01T19:15:22.790899Z",
     "iopub.status.busy": "2022-08-01T19:15:22.789909Z",
     "iopub.status.idle": "2022-08-01T19:15:28.288083Z",
     "shell.execute_reply": "2022-08-01T19:15:28.287084Z"
    },
    "scrolled": true
   },
   "outputs": [
    {
     "name": "stderr",
     "output_type": "stream",
     "text": [
      "C:\\Users\\David\\Desktop\\GPSR Research\\bingoNASAFork\\bingo\\symbolic_regression\\__init__.py:31: UserWarning: Could not load C++ modules cannot import name 'AGraph' from 'bingocpp' (unknown location)\n",
      "  warnings.warn(f\"Could not load C++ modules {import_err}\")\n"
     ]
    },
    {
     "name": "stdout",
     "output_type": "stream",
     "text": [
      "using 1 processes\n",
      "generating population\n",
      "finished generating population\n"
     ]
    },
    {
     "name": "stdout",
     "output_type": "stream",
     "text": [
      " Generating a diverse population took 559 iterations.\n",
      "archipelago: <class 'bingo.evolutionary_optimizers.island.Island'>\n"
     ]
    },
    {
     "name": "stdout",
     "output_type": "stream",
     "text": [
      "Generation: 0, Best fitness: 135.94440783411915\n"
     ]
    },
    {
     "name": "stdout",
     "output_type": "stream",
     "text": [
      "Generation: 10, Best fitness: 7.135246887724052e-30\n",
      "done with opt, best_ind: 4.4999999999999964 - (1.5 + (((X_0)(X_0))(1.5) - (1.5) - (X_0))(-2.0)), fitness: 7.135246887724052e-30\n",
      "reran CLO, best_ind: 4.5 - (1.5 + (((X_0)(X_0))(1.5) - (1.5) - (X_0))(-2.0)), fitness: 3.944304526105059e-33\n",
      "Found model: 4.5 - (1.5 + (((X_0)(X_0))(1.5) - (1.5) - (X_0))(-2.0))\n"
     ]
    }
   ],
   "source": [
    "from bingo.symbolic_regression.symbolic_regressor import SymbolicRegressor\n",
    "regressor = SymbolicRegressor()\n",
    "regressor.fit(X, y)\n",
    "print(\"Found model:\", regressor.get_best_individual())\n",
    "pred_y = regressor.predict(X)"
   ]
  },
  {
   "cell_type": "markdown",
   "id": "c0aabecd",
   "metadata": {},
   "source": [
    "### Visualizing the Model's Predictions"
   ]
  },
  {
   "cell_type": "code",
   "execution_count": 4,
   "id": "fe1e5d37",
   "metadata": {
    "execution": {
     "iopub.execute_input": "2022-08-01T19:15:28.323082Z",
     "iopub.status.busy": "2022-08-01T19:15:28.302082Z",
     "iopub.status.idle": "2022-08-01T19:15:28.462089Z",
     "shell.execute_reply": "2022-08-01T19:15:28.461103Z"
    }
   },
   "outputs": [
    {
     "data": {
      "image/png": "[encoded data removed]",
      "text/plain": [
       "<Figure size 432x288 with 1 Axes>"
      ]
     },
     "metadata": {
      "needs_background": "light"
     },
     "output_type": "display_data"
    }
   ],
   "source": [
    "plt.scatter(X, y)\n",
    "plt.plot(X, pred_y, \"r\")\n",
    "plt.xlabel(\"X_0\")\n",
    "plt.ylabel(\"y\")\n",
    "plt.legend([\"actual\", \"predicted\"])\n",
    "plt.show()"
   ]
  }
 ],
 "metadata": {
  "kernelspec": {
   "display_name": "Python 3 (ipykernel)",
   "language": "python",
   "name": "python3"
  },
  "language_info": {
   "codemirror_mode": {
    "name": "ipython",
    "version": 3
   },
   "file_extension": ".py",
   "mimetype": "text/x-python",
   "name": "python",
   "nbconvert_exporter": "python",
   "pygments_lexer": "ipython3",
   "version": "3.8.5"
  }
 },
 "nbformat": 4,
 "nbformat_minor": 5
}
