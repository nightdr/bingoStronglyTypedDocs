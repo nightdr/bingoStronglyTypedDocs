{
 "cells": [
  {
   "cell_type": "markdown",
   "metadata": {},
   "source": [
    "# Bingo Tutorial 1: One Max Problem\n",
    "\n",
    "\n",
    "## Goal: Find a list with all 1 values through genetic optimization"
   ]
  },
  {
   "cell_type": "markdown",
   "metadata": {},
   "source": [
    "This example walks through the general steps needed to set up and run a bingo analysis. The example problem described here is the one max problem. In the one max problem individuals in a population are defined by a chromosome with a list of 0 or 1 values, e.g., [0, 1, 1, 0, 1]. The goal of the optimization is to evolve toward an optimum list containing all 1's. "
   ]
  },
  {
   "cell_type": "markdown",
   "metadata": {},
   "source": [
    "### Chromosome\n",
    "The basic unit of bingo evolutionary analyses are Chromosomes.  Bingo's built-in `MultipleValueChromosome` is used here. Individuals of this type contain their genetic information in a list attribute named `values`"
   ]
  },
  {
   "cell_type": "code",
   "execution_count": 1,
   "metadata": {
    "execution": {
     "iopub.execute_input": "2022-08-01T19:12:25.351280Z",
     "iopub.status.busy": "2022-08-01T19:12:25.348266Z",
     "iopub.status.idle": "2022-08-01T19:12:25.489133Z",
     "shell.execute_reply": "2022-08-01T19:12:25.488133Z"
    }
   },
   "outputs": [
    {
     "name": "stdout",
     "output_type": "stream",
     "text": [
      "<class 'bingo.chromosomes.multiple_values.MultipleValueChromosome'>\n",
      "[0, 1, 1, 0, 1]\n",
      "[0, 1, 1, 0, 1]\n"
     ]
    }
   ],
   "source": [
    "from bingo.chromosomes.multiple_values import MultipleValueChromosome\n",
    "chromosome = MultipleValueChromosome([0, 1, 1, 0, 1])\n",
    "print(type(chromosome))\n",
    "print(chromosome.values)\n",
    "print(chromosome)"
   ]
  },
  {
   "cell_type": "markdown",
   "metadata": {},
   "source": [
    "### Chromosome Generator\n",
    "A chromosome generator is used to generate members (Chromosomes) in a population. The `MultipleValueChromosomeGenerator` generates these individuals by populating the indivudual's values from a given input function. The `generate_0_or_1` function is defined for this purpose. "
   ]
  },
  {
   "cell_type": "code",
   "execution_count": 2,
   "metadata": {
    "execution": {
     "iopub.execute_input": "2022-08-01T19:12:25.492143Z",
     "iopub.status.busy": "2022-08-01T19:12:25.491143Z",
     "iopub.status.idle": "2022-08-01T19:12:25.504498Z",
     "shell.execute_reply": "2022-08-01T19:12:25.503490Z"
    }
   },
   "outputs": [],
   "source": [
    "import numpy as np\n",
    "from bingo.chromosomes.multiple_values import MultipleValueChromosomeGenerator\n",
    "\n",
    "def generate_0_or_1():\n",
    "    return np.random.choice([0, 1])\n",
    "\n",
    "generator = MultipleValueChromosomeGenerator(generate_0_or_1,\n",
    "                                             values_per_chromosome=16) "
   ]
  },
  {
   "cell_type": "code",
   "execution_count": 3,
   "metadata": {
    "execution": {
     "iopub.execute_input": "2022-08-01T19:12:25.507518Z",
     "iopub.status.busy": "2022-08-01T19:12:25.506503Z",
     "iopub.status.idle": "2022-08-01T19:12:25.520399Z",
     "shell.execute_reply": "2022-08-01T19:12:25.519384Z"
    }
   },
   "outputs": [
    {
     "name": "stdout",
     "output_type": "stream",
     "text": [
      "[0, 0, 1, 1, 1, 0, 0, 0, 1, 0, 0, 1, 1, 1, 0, 1]\n"
     ]
    }
   ],
   "source": [
    "# Example of Generator\n",
    "chromosome = generator()\n",
    "print(chromosome)"
   ]
  },
  {
   "cell_type": "markdown",
   "metadata": {},
   "source": [
    "### The Evolutionary Algorithm\n",
    "Evolutionary algorithms have 3 phases in bingo: variation, evaluation and selection. \n",
    "\n",
    "**Variation**\n",
    "\n",
    "The variation phase is responsible for generating offspring of the population, usually through some combination of mutation and crossover. Single-point mutation and crossover are used for this example. Also in this example, VarOr is used which creates offspring through either mutation or crossover (never both)."
   ]
  },
  {
   "cell_type": "code",
   "execution_count": 4,
   "metadata": {
    "execution": {
     "iopub.execute_input": "2022-08-01T19:12:25.523387Z",
     "iopub.status.busy": "2022-08-01T19:12:25.523387Z",
     "iopub.status.idle": "2022-08-01T19:12:25.535921Z",
     "shell.execute_reply": "2022-08-01T19:12:25.535921Z"
    }
   },
   "outputs": [],
   "source": [
    "from bingo.chromosomes.multiple_values import SinglePointCrossover, SinglePointMutation\n",
    "from bingo.variation.var_or import VarOr\n",
    "\n",
    "crossover = SinglePointCrossover()\n",
    "mutation = SinglePointMutation(generate_0_or_1)\n",
    "variation_phase = VarOr(crossover, mutation,\n",
    "                        crossover_probability=0.4,\n",
    "                        mutation_probability=0.4)"
   ]
  },
  {
   "cell_type": "code",
   "execution_count": 5,
   "metadata": {
    "execution": {
     "iopub.execute_input": "2022-08-01T19:12:25.539920Z",
     "iopub.status.busy": "2022-08-01T19:12:25.538920Z",
     "iopub.status.idle": "2022-08-01T19:12:25.550839Z",
     "shell.execute_reply": "2022-08-01T19:12:25.550839Z"
    }
   },
   "outputs": [
    {
     "name": "stdout",
     "output_type": "stream",
     "text": [
      "Mutation\n",
      "before:  [0, 0, 0, 0, 0, 0]\n",
      "after:   [0, 0, 0, 0, 1, 0]\n"
     ]
    }
   ],
   "source": [
    "# Example of Single-point Mutation\n",
    "np.random.seed(0)\n",
    "before_mutation = MultipleValueChromosome([0, 0, 0, 0, 0, 0])\n",
    "after_mutation = mutation(before_mutation)\n",
    "print(\"Mutation\")\n",
    "print(\"before: \", before_mutation)\n",
    "print(\"after:  \", after_mutation)"
   ]
  },
  {
   "cell_type": "code",
   "execution_count": 6,
   "metadata": {
    "execution": {
     "iopub.execute_input": "2022-08-01T19:12:25.554854Z",
     "iopub.status.busy": "2022-08-01T19:12:25.554854Z",
     "iopub.status.idle": "2022-08-01T19:12:25.567040Z",
     "shell.execute_reply": "2022-08-01T19:12:25.566032Z"
    }
   },
   "outputs": [
    {
     "name": "stdout",
     "output_type": "stream",
     "text": [
      "Crossover\n",
      "parent 1:  [0, 0, 0, 0, 0, 0]\n",
      "parent 1:  [1, 1, 1, 1, 1, 1]\n",
      "child 1:  [0, 0, 0, 0, 0, 1]\n",
      "child 1:  [1, 1, 1, 1, 1, 0]\n"
     ]
    }
   ],
   "source": [
    "# Example of Single-point Crossover\n",
    "parent_1 = MultipleValueChromosome([0, 0, 0, 0, 0, 0])\n",
    "parent_2 = MultipleValueChromosome([1, 1, 1, 1, 1, 1])\n",
    "child_1, child_2 = crossover(parent_1, parent_2)\n",
    "print(\"Crossover\")\n",
    "print(\"parent 1: \", parent_1)\n",
    "print(\"parent 1: \", parent_2)\n",
    "print(\"child 1: \", child_1)\n",
    "print(\"child 1: \", child_2)"
   ]
  },
  {
   "cell_type": "markdown",
   "metadata": {},
   "source": [
    "**Evaluation**\n",
    "\n",
    "The evaluation phase is responsible for evaluating the fitness of new members of a population. It relies on the definition of a `FitnessFunction` class.\n",
    "\n",
    "The goal of bingo analyses is to *minimize* fitness, so fitness functions should be constructed accordingly. In the one max problem fitness is defined as the number of 0's in the individuals values."
   ]
  },
  {
   "cell_type": "code",
   "execution_count": 7,
   "metadata": {
    "execution": {
     "iopub.execute_input": "2022-08-01T19:12:25.570060Z",
     "iopub.status.busy": "2022-08-01T19:12:25.570060Z",
     "iopub.status.idle": "2022-08-01T19:12:25.581847Z",
     "shell.execute_reply": "2022-08-01T19:12:25.580847Z"
    }
   },
   "outputs": [],
   "source": [
    "from bingo.evaluation.fitness_function import FitnessFunction\n",
    "from bingo.evaluation.evaluation import Evaluation\n",
    "\n",
    "class OneMaxFitnessFunction(FitnessFunction):\n",
    "    \"\"\"Callable class to calculate fitness\"\"\"\n",
    "    def __call__(self, individual):\n",
    "        return individual.values.count(0)\n",
    "\n",
    "fitness = OneMaxFitnessFunction()\n",
    "evaluation_phase = Evaluation(fitness)"
   ]
  },
  {
   "cell_type": "code",
   "execution_count": 8,
   "metadata": {
    "execution": {
     "iopub.execute_input": "2022-08-01T19:12:25.584846Z",
     "iopub.status.busy": "2022-08-01T19:12:25.583846Z",
     "iopub.status.idle": "2022-08-01T19:12:25.597884Z",
     "shell.execute_reply": "2022-08-01T19:12:25.597884Z"
    }
   },
   "outputs": [
    {
     "name": "stdout",
     "output_type": "stream",
     "text": [
      "Values:  [0, 1, 0, 1, 0, 0]\n",
      "Fitness: 4\n"
     ]
    }
   ],
   "source": [
    "# Example fitness calculation\n",
    "chromosome = MultipleValueChromosome([0, 1, 0, 1, 0, 0])\n",
    "print(\"Values: \", chromosome)\n",
    "print(\"Fitness:\",fitness(chromosome))"
   ]
  },
  {
   "cell_type": "markdown",
   "metadata": {},
   "source": [
    "**Selection**\n",
    "\n",
    "The selection phase is responsible for choosing which members of the population proceed to the next generation. An implementation of the common tournament selection algorithm is used here."
   ]
  },
  {
   "cell_type": "code",
   "execution_count": 9,
   "metadata": {
    "execution": {
     "iopub.execute_input": "2022-08-01T19:12:25.599883Z",
     "iopub.status.busy": "2022-08-01T19:12:25.599883Z",
     "iopub.status.idle": "2022-08-01T19:12:25.612503Z",
     "shell.execute_reply": "2022-08-01T19:12:25.612503Z"
    }
   },
   "outputs": [],
   "source": [
    "from bingo.selection.tournament import Tournament\n",
    "\n",
    "selection_phase = Tournament(tournament_size=2)"
   ]
  },
  {
   "cell_type": "markdown",
   "metadata": {},
   "source": [
    "Based on the above 3 phases, an EvolutionaryAlgorithm can be defined.  Note that several evolutionary algorithms are implemented in bingo, with only the simplest shown here.  They all generally take the same form, but may have different requirements for instatiation."
   ]
  },
  {
   "cell_type": "code",
   "execution_count": 10,
   "metadata": {
    "execution": {
     "iopub.execute_input": "2022-08-01T19:12:25.615517Z",
     "iopub.status.busy": "2022-08-01T19:12:25.614513Z",
     "iopub.status.idle": "2022-08-01T19:12:25.628234Z",
     "shell.execute_reply": "2022-08-01T19:12:25.629239Z"
    }
   },
   "outputs": [],
   "source": [
    "from bingo.evolutionary_algorithms.evolutionary_algorithm import EvolutionaryAlgorithm\n",
    "\n",
    "ev_alg = EvolutionaryAlgorithm(variation_phase, evaluation_phase, \n",
    "                               selection_phase)"
   ]
  },
  {
   "cell_type": "markdown",
   "metadata": {},
   "source": [
    "### Creating an island and Running the Analysis\n",
    "\n",
    "An `Island` is the fundamental unit for running bingo evolutionary analyses. It is responsible for generating and evolving a population (using a generator and evolutionary algorithm)."
   ]
  },
  {
   "cell_type": "code",
   "execution_count": 11,
   "metadata": {
    "execution": {
     "iopub.execute_input": "2022-08-01T19:12:25.632229Z",
     "iopub.status.busy": "2022-08-01T19:12:25.631229Z",
     "iopub.status.idle": "2022-08-01T19:12:25.660376Z",
     "shell.execute_reply": "2022-08-01T19:12:25.659376Z"
    }
   },
   "outputs": [
    {
     "name": "stdout",
     "output_type": "stream",
     "text": [
      "generating population\n",
      "finished generating population\n",
      "Best individual at start:  [1, 1, 1, 1, 1, 1, 0, 1, 1, 0, 0, 1, 0, 0, 1, 1]\n",
      "Best individual's fitness:  5\n"
     ]
    }
   ],
   "source": [
    "from bingo.evolutionary_optimizers.island import Island\n",
    "\n",
    "island = Island(ev_alg, generator, population_size=10)\n",
    "print(\"Best individual at start: \", island.get_best_individual())\n",
    "print(\"Best individual's fitness: \", island.get_best_fitness())"
   ]
  },
  {
   "cell_type": "markdown",
   "metadata": {},
   "source": [
    "The island can be evolved directly using it's `evolve` member function. In this case the population is evolved for 50 generations"
   ]
  },
  {
   "cell_type": "code",
   "execution_count": 12,
   "metadata": {
    "execution": {
     "iopub.execute_input": "2022-08-01T19:12:25.749176Z",
     "iopub.status.busy": "2022-08-01T19:12:25.668382Z",
     "iopub.status.idle": "2022-08-01T19:12:25.754196Z",
     "shell.execute_reply": "2022-08-01T19:12:25.755196Z"
    }
   },
   "outputs": [
    {
     "name": "stdout",
     "output_type": "stream",
     "text": [
      "Best individual at start:  [1, 1, 1, 1, 1, 1, 1, 1, 1, 1, 0, 1, 1, 1, 1, 1]\n",
      "Best individual's fitness:  1\n"
     ]
    }
   ],
   "source": [
    "island.evolve(50)\n",
    "\n",
    "print(\"Best individual at start: \", island.get_best_individual())\n",
    "print(\"Best individual's fitness: \", island.get_best_fitness())"
   ]
  },
  {
   "cell_type": "markdown",
   "metadata": {},
   "source": [
    "### Seeing the Evolution: tracking the best individual\n",
    "We can track the best individual over the analysis to see the evolution take place."
   ]
  },
  {
   "cell_type": "code",
   "execution_count": 13,
   "metadata": {
    "execution": {
     "iopub.execute_input": "2022-08-01T19:12:25.763196Z",
     "iopub.status.busy": "2022-08-01T19:12:25.761196Z",
     "iopub.status.idle": "2022-08-01T19:12:25.864732Z",
     "shell.execute_reply": "2022-08-01T19:12:25.864732Z"
    }
   },
   "outputs": [
    {
     "name": "stdout",
     "output_type": "stream",
     "text": [
      "generating population\n",
      "finished generating population\n",
      "Best individual in generation 0 :  [0, 1, 1, 0, 1, 1, 1, 1, 1, 1, 1, 0, 0, 1, 0, 0]\n",
      "Best individual in generation 1 :  [1, 0, 1, 1, 0, 1, 1, 0, 0, 1, 1, 1, 1, 0, 1, 0]\n",
      "Best individual in generation"
     ]
    },
    {
     "name": "stdout",
     "output_type": "stream",
     "text": [
      " 2 :  [1, 1, 1, 1, 0, 1, 1, 0, 0, 1, 1, 1, 1, 0, 1, 0]\n",
      "Best individual in generation 3 :  [1, 0, 1, 1, 0, 1, 1, 0, 0, 1, 1, 1, 1, 0, 1, 0]\n",
      "Best individual in generation 4 :  [1, 0, 1, 1, 0, 1, 1, 0, 0, 1, 1, 1, 1, 0, 1, 0]\n",
      "Best individual in generation 5 :  [1, 0, 1, 1, 0, 1, 1, 0, 0, 1, 1, 1, 1, 0, 1, 0]\n",
      "Best individual in generation 6 :  [1, 0, 1, 1, 0, 1, 1, 0, 0, 1, 1, 1, 1, 0, 1, 0]\n",
      "Best individual in generation 7 :  [1, 1, 1, 1, 0, 1, 1, 0, 0, 1, 1, 1, 1, 0, 1, 0]\n",
      "Best individual in generation 8 :  [1, 1, 1, 1, 0, 1, 1, 0, 0, 1, 1, 1, 1, 0, 1, 0]\n",
      "Best individual in generation 9 :  [1, 1, 1, 1, 0, 1, 1, 0, 1, 1, 1, 1, 1, 0, 1, 0]\n",
      "Best individual in generation 10 :  [1, 1, 1, 1, 0, 1, 1, 0, 0, 1, 1, 1, 1, 0, 1, 0]\n",
      "Best individual in generation 11 :  [1, 1, 1, 1, 0, 1, 1, 0, 0, 1, 1, 1, 1, 0, 1, 0]\n",
      "Best individual in generation 12 :  [1, 1, 1, 1, 0, 1, 1, 1, 0, 1, 1, 1, 1, 0, 1, 0]\n",
      "Best individual in generation 13 :  [1, 1, 0, 1, 0, 1, 1, 1, 0, 1, 1, 1, 1, 0, 1, 0]\n",
      "Best individual in generation 14 :  [1, 1, 1, 1, 0, 1, 1, 1, 0, 1, 1, 1, 1, 0, 1, 0]\n",
      "Best individual in generation 15 :  [1, 1, 1, 1, 0, 1, 1, 1, 0, 1, 1, 1, 1, 0, 1, 0]\n",
      "Best individual in generation 16 :  [1, 1, 1, 1, 0, 1, 1, 1, 0, 1, 1, 1, 1, 0, 1, 0]\n",
      "Best individual in generation 17 :  [1, 1, 1, 1, 0, 1, 1, 1, 1, 1, 1, 1, 1, 0, 1, 0]\n",
      "Best individual in generation 18 :  [1, 1, 1, 1, 0, 1, 1, 1, 1, 1, 1, 1, 1, 0, 1, 0]\n",
      "Best individual in generation 19 :  [1, 1, 1, 1, 0, 1, 1, 1, 1, 1, 1, 1, 1, 0, 1, 0]\n",
      "Best individual in generation 20 :  [1, 1, 1, 1, 0, 1, 1, 1, 1, 1, 1, 1, 1, 0, 1, 0]\n",
      "Best individual in generation 21 :  [1, 1, 1, 1, 1, 1, 1, 1, 1, 1, 1, 1, 1, 0, 1, 0]\n",
      "Best individual in generation 22 :  [1, 1, 1, 1, 1, 1, 1, 1, 1, 1, 1, 1, 1, 0, 1, 0]\n",
      "Best individual in generation 23 :  [1, 1, 1, 1, 1, 1, 1, 1, 1, 1, 1, 1, 1, 0, 1, 0]\n",
      "Best individual in generation 24 :  [1, 1, 1, 1, 1, 1, 1, 1, 1, 1, 1, 1, 1, 0, 1, 0]\n",
      "Best individual in generation 25 :  [1, 1, 1, 1, 1, 1, 1, 1, 1, 1, 1, 1, 1, 0, 1, 0]\n",
      "Best individual in generation 26 :  [1, 1, 1, 1, 1, 1, 1, 1, 1, 1, 1, 1, 1, 0, 1, 0]\n",
      "Best individual in generation 27 :  [1, 1, 1, 1, 1, 1, 1, 1, 1, 1, 1, 1, 1, 1, 1, 0]\n",
      "Best individual in generation 28 :  [1, 1, 1, 1, 1, 1, 1, 1, 1, 1, 1, 1, 1, 1, 1, 0]\n",
      "Best individual in generation 29 :  [1, 1, 1, 1, 1, 1, 1, 1, 1, 1, 1, 1, 1, 1, 1, 0]\n",
      "Best individual in generation 30 :  [1, 1, 1, 1, 1, 1, 1, 1, 1, 1, 1, 1, 1, 1, 1, 0]\n",
      "Best individual in generation 31 :  [1, 1, 1, 1, 1, 1, 1, 1, 1, 1, 1, 1, 1, 1, 1, 0]\n",
      "Best individual in generation"
     ]
    },
    {
     "name": "stdout",
     "output_type": "stream",
     "text": [
      " 32 :  [1, 1, 1, 1, 1, 1, 1, 1, 1, 1, 1, 1, 1, 1, 1, 1]\n",
      "Best individual in generation 33 :  [1, 1, 1, 1, 1, 1, 1, 1, 1, 1, 1, 1, 1, 1, 1, 1]\n",
      "Best individual in generation 34 :  [1, 1, 1, 1, 1, 1, 1, 1, 1, 1, 1, 1, 1, 1, 1, 1]\n",
      "Best individual in generation 35 :  [1, 1, 1, 1, 1, 1, 1, 1, 1, 1, 1, 1, 1, 1, 1, 1]\n",
      "Best individual in generation 36 :  [1, 1, 1, 1, 1, 1, 1, 1, 1, 1, 1, 1, 1, 1, 1, 1]\n",
      "Best individual in generation 37 :  [1, 1, 1, 1, 1, 1, 1, 1, 1, 1, 1, 1, 1, 1, 1, 1]\n",
      "Best individual in generation 38 :  [1, 1, 1, 1, 1, 1, 1, 1, 1, 1, 1, 1, 1, 1, 1, 1]\n",
      "Best individual in generation 39 :  [1, 1, 1, 1, 1, 1, 1, 1, 1, 1, 1, 1, 1, 1, 1, 1]\n",
      "Best individual in generation 40 :  [1, 1, 1, 1, 1, 1, 1, 1, 1, 1, 1, 1, 1, 1, 1, 1]\n",
      "Best individual in generation 41 :  [1, 1, 1, 1, 1, 1, 1, 1, 1, 1, 1, 1, 1, 1, 1, 1]\n",
      "Best individual in generation 42 :  [1, 1, 1, 1, 1, 1, 1, 1, 1, 1, 1, 1, 1, 1, 1, 1]\n",
      "Best individual in generation 43 :  [1, 1, 1, 1, 1, 1, 1, 1, 1, 1, 1, 1, 1, 1, 1, 1]\n",
      "Best individual in generation 44 :  [1, 1, 1, 1, 1, 1, 1, 1, 1, 1, 1, 1, 1, 1, 1, 1]\n",
      "Best individual in generation 45 :  [1, 1, 1, 1, 1, 1, 1, 1, 1, 1, 1, 1, 1, 1, 1, 1]\n",
      "Best individual in generation 46 :  [1, 1, 1, 1, 1, 1, 1, 1, 1, 1, 1, 1, 1, 1, 1, 1]\n",
      "Best individual in generation 47 :  [1, 1, 1, 1, 1, 1, 1, 1, 1, 1, 1, 1, 1, 1, 1, 1]\n",
      "Best individual in generation 48 :  [1, 1, 1, 1, 1, 1, 1, 1, 1, 1, 1, 1, 1, 1, 1, 1]\n",
      "Best individual in generation 49 :  [1, 1, 1, 1, 1, 1, 1, 1, 1, 1, 1, 1, 1, 1, 1, 1]\n"
     ]
    }
   ],
   "source": [
    "np.random.seed(0)\n",
    "island = Island(ev_alg, generator, population_size=10)\n",
    "for i in range(50):\n",
    "    island.evolve(1)\n",
    "    print(\"Best individual in generation\", i, \": \", island.get_best_individual())"
   ]
  }
 ],
 "metadata": {
  "kernelspec": {
   "display_name": "Python 3",
   "language": "python",
   "name": "python3"
  },
  "language_info": {
   "codemirror_mode": {
    "name": "ipython",
    "version": 3
   },
   "file_extension": ".py",
   "mimetype": "text/x-python",
   "name": "python",
   "nbconvert_exporter": "python",
   "pygments_lexer": "ipython3",
   "version": "3.8.5"
  }
 },
 "nbformat": 4,
 "nbformat_minor": 2
}
