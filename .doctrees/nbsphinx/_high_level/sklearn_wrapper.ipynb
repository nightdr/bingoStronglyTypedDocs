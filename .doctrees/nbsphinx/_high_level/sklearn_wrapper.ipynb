{
 "cells": [
  {
   "cell_type": "markdown",
   "id": "f0de0859",
   "metadata": {},
   "source": [
    "# Using the Scikit-Learn Wrapper\n",
    "\n",
    "A no-fuss way of using Bingo is by using the scikit-learn wrapper:\n",
    "`SymbolicRegressor`. Let's setup a test case to show how it works."
   ]
  },
  {
   "cell_type": "markdown",
   "id": "237bafa2",
   "metadata": {},
   "source": [
    "## Setting Up the Regressor\n",
    "\n",
    "There are many options that can be set in `SymbolicRegressor`. Here we set some basic ones including\n",
    "`population_size` (the number of equations in a population), `stack_size` (the max number of nodes per equation), and `use_simplification`\n",
    "(whether to use simplification to speed up equation evaluation and for easier reading). You can see all of `SymbolicRegressor`'s\n",
    "options [here](../_apidocs/bingo.symbolic_regression.html#module-bingo.symbolic_regression.symbolic_regressor)."
   ]
  },
  {
   "cell_type": "code",
   "execution_count": 1,
   "id": "d9639ff1",
   "metadata": {
    "execution": {
     "iopub.execute_input": "2022-08-01T19:35:08.549844Z",
     "iopub.status.busy": "2022-08-01T19:35:08.549844Z",
     "iopub.status.idle": "2022-08-01T19:35:09.680807Z",
     "shell.execute_reply": "2022-08-01T19:35:09.681807Z"
    },
    "scrolled": true
   },
   "outputs": [
    {
     "name": "stderr",
     "output_type": "stream",
     "text": [
      "C:\\Users\\David\\Desktop\\GPSR Research\\bingoNASAFork\\bingo\\symbolic_regression\\__init__.py:31: UserWarning: Could not load C++ modules cannot import name 'AGraph' from 'bingocpp' (unknown location)\n",
      "  warnings.warn(f\"Could not load C++ modules {import_err}\")\n"
     ]
    }
   ],
   "source": [
    "from bingo.symbolic_regression.symbolic_regressor import SymbolicRegressor\n",
    "regressor = SymbolicRegressor(population_size=100, stack_size=16,\n",
    "                              use_simplification=True)"
   ]
  },
  {
   "cell_type": "markdown",
   "id": "58f6886a",
   "metadata": {},
   "source": [
    "## Training Data\n",
    "Here we're just creating some dummy training data from the equation $5.0 X_0^2 + 3.5 X_0$. More on training data can be found\n",
    "in the [data formatting guide](data_formatting.html)."
   ]
  },
  {
   "cell_type": "code",
   "execution_count": 2,
   "id": "02f73359",
   "metadata": {
    "execution": {
     "iopub.execute_input": "2022-08-01T19:35:09.684807Z",
     "iopub.status.busy": "2022-08-01T19:35:09.684807Z",
     "iopub.status.idle": "2022-08-01T19:35:09.696807Z",
     "shell.execute_reply": "2022-08-01T19:35:09.696807Z"
    }
   },
   "outputs": [],
   "source": [
    "import numpy as np\n",
    "X_0 = np.linspace(-10, 10, num=30).reshape((-1, 1))\n",
    "X = np.array(X_0)\n",
    "y = 5.0 * X_0 ** 2 + 3.5 * X_0"
   ]
  },
  {
   "cell_type": "code",
   "execution_count": 3,
   "id": "1478f0f9",
   "metadata": {
    "execution": {
     "iopub.execute_input": "2022-08-01T19:35:09.699806Z",
     "iopub.status.busy": "2022-08-01T19:35:09.699806Z",
     "iopub.status.idle": "2022-08-01T19:35:10.139792Z",
     "shell.execute_reply": "2022-08-01T19:35:10.140793Z"
    }
   },
   "outputs": [
    {
     "data": {
      "image/png": "[encoded data removed]",
      "text/plain": [
       "<Figure size 432x288 with 1 Axes>"
      ]
     },
     "metadata": {
      "needs_background": "light"
     },
     "output_type": "display_data"
    }
   ],
   "source": [
    "import matplotlib.pyplot as plt\n",
    "plt.scatter(X, y)\n",
    "plt.xlabel(\"X_0\")\n",
    "plt.ylabel(\"y\")\n",
    "plt.title(\"Training Data\")\n",
    "plt.show()"
   ]
  },
  {
   "cell_type": "markdown",
   "id": "70a63161",
   "metadata": {},
   "source": [
    "## Fitting the Regressor\n",
    "\n",
    "Fitting is as simple as calling the `.fit()` method."
   ]
  },
  {
   "cell_type": "code",
   "execution_count": 4,
   "id": "1ef72682",
   "metadata": {
    "execution": {
     "iopub.execute_input": "2022-08-01T19:35:10.153793Z",
     "iopub.status.busy": "2022-08-01T19:35:10.151793Z",
     "iopub.status.idle": "2022-08-01T19:35:10.937767Z",
     "shell.execute_reply": "2022-08-01T19:35:10.937767Z"
    }
   },
   "outputs": [
    {
     "name": "stdout",
     "output_type": "stream",
     "text": [
      "using 1 processes\n",
      "generating population\n",
      "finished generating population\n"
     ]
    },
    {
     "name": "stdout",
     "output_type": "stream",
     "text": [
      " Generating a diverse population took 333 iterations.\n",
      "archipelago: <class 'bingo.evolutionary_optimizers.island.Island'>\n",
      "Generation: 0, Best fitness: 222.70114942528738\n"
     ]
    },
    {
     "name": "stdout",
     "output_type": "stream",
     "text": [
      "Generation: 10, Best fitness: 6.672810051242618e-28\n",
      "done with opt, best_ind: (X_0)(3.500000000000001 + X_0 + (4.0)(X_0)), fitness: 6.672810051242618e-28\n",
      "reran CLO, best_ind: (X_0)(3.5000000000000004 + X_0 + (4.0)(X_0)), fitness: 6.665369285100143e-28\n"
     ]
    }
   ],
   "source": [
    "regressor.fit(X, y)"
   ]
  },
  {
   "cell_type": "markdown",
   "id": "bab9c04d",
   "metadata": {},
   "source": [
    "## Getting the Best Individual"
   ]
  },
  {
   "cell_type": "code",
   "execution_count": 5,
   "id": "eeb19e88",
   "metadata": {
    "execution": {
     "iopub.execute_input": "2022-08-01T19:35:10.940766Z",
     "iopub.status.busy": "2022-08-01T19:35:10.940766Z",
     "iopub.status.idle": "2022-08-01T19:35:10.953765Z",
     "shell.execute_reply": "2022-08-01T19:35:10.953765Z"
    }
   },
   "outputs": [
    {
     "name": "stdout",
     "output_type": "stream",
     "text": [
      "best individual is: (X_0)(3.5000000000000004 + X_0 + (4.0)(X_0))\n"
     ]
    }
   ],
   "source": [
    "best_individual = regressor.get_best_individual()\n",
    "print(\"best individual is:\", best_individual)"
   ]
  },
  {
   "cell_type": "markdown",
   "id": "f7573078",
   "metadata": {},
   "source": [
    "## Predicting Data with the Best Individual\n",
    "\n",
    "You can use the regressor's `.predict(X)` or\n",
    "the best_individual's `.evaluate_equation_at(X)` to get\n",
    "its predictions for `X`."
   ]
  },
  {
   "cell_type": "code",
   "execution_count": 6,
   "id": "9a9c9105",
   "metadata": {
    "execution": {
     "iopub.execute_input": "2022-08-01T19:35:10.956765Z",
     "iopub.status.busy": "2022-08-01T19:35:10.955766Z",
     "iopub.status.idle": "2022-08-01T19:35:10.969770Z",
     "shell.execute_reply": "2022-08-01T19:35:10.969770Z"
    }
   },
   "outputs": [],
   "source": [
    "pred_y = regressor.predict(X)\n",
    "pred_y = best_individual.evaluate_equation_at(X)"
   ]
  },
  {
   "cell_type": "code",
   "execution_count": 7,
   "id": "26c7ec0b",
   "metadata": {
    "execution": {
     "iopub.execute_input": "2022-08-01T19:35:10.980764Z",
     "iopub.status.busy": "2022-08-01T19:35:10.971765Z",
     "iopub.status.idle": "2022-08-01T19:35:11.159759Z",
     "shell.execute_reply": "2022-08-01T19:35:11.159759Z"
    }
   },
   "outputs": [
    {
     "data": {
      "image/png": "[encoded data removed]",
      "text/plain": [
       "<Figure size 432x288 with 1 Axes>"
      ]
     },
     "metadata": {
      "needs_background": "light"
     },
     "output_type": "display_data"
    }
   ],
   "source": [
    "plt.scatter(X, y)\n",
    "plt.plot(X, pred_y, \"r\")\n",
    "plt.xlabel(\"X_0\")\n",
    "plt.ylabel(\"y\")\n",
    "plt.legend([\"Actual\", \"Predicted\"])\n",
    "plt.show()"
   ]
  }
 ],
 "metadata": {
  "kernelspec": {
   "display_name": "Python 3 (ipykernel)",
   "language": "python",
   "name": "python3"
  },
  "language_info": {
   "codemirror_mode": {
    "name": "ipython",
    "version": 3
   },
   "file_extension": ".py",
   "mimetype": "text/x-python",
   "name": "python",
   "nbconvert_exporter": "python",
   "pygments_lexer": "ipython3",
   "version": "3.8.5"
  }
 },
 "nbformat": 4,
 "nbformat_minor": 5
}
